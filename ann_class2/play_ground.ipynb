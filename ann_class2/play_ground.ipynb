{
 "nbformat": 4,
 "nbformat_minor": 2,
 "metadata": {
  "language_info": {
   "name": "python",
   "codemirror_mode": {
    "name": "ipython",
    "version": 3
   },
   "version": "3.7.5-final"
  },
  "orig_nbformat": 2,
  "file_extension": ".py",
  "mimetype": "text/x-python",
  "name": "python",
  "npconvert_exporter": "python",
  "pygments_lexer": "ipython3",
  "version": 3,
  "kernelspec": {
   "name": "python3",
   "display_name": "Python 3"
  }
 },
 "cells": [
  {
   "cell_type": "code",
   "execution_count": 12,
   "metadata": {},
   "outputs": [],
   "source": [
    "import numpy as np "
   ]
  },
  {
   "cell_type": "code",
   "execution_count": 19,
   "metadata": {},
   "outputs": [
    {
     "output_type": "execute_result",
     "data": {
      "text/plain": "array([[125, 128, 131, 134, 137],\n       [170, 182, 194, 206, 218],\n       [215, 236, 257, 278, 299],\n       [260, 290, 320, 350, 380]])"
     },
     "metadata": {},
     "execution_count": 19
    }
   ],
   "source": [
    "x = np.arange(12).reshape(4,3)\n",
    "w = np.arange(15).reshape(3,5)\n",
    "b = np.array([100,100,100,100,100])\n",
    "x.dot(w)+ b"
   ]
  },
  {
   "cell_type": "code",
   "execution_count": 22,
   "metadata": {},
   "outputs": [
    {
     "output_type": "execute_result",
     "data": {
      "text/plain": "array([4.5, 5.5, 6.5])"
     },
     "metadata": {},
     "execution_count": 22
    }
   ],
   "source": [
    "x.mean(axis=0)"
   ]
  },
  {
   "cell_type": "code",
   "execution_count": 4,
   "metadata": {},
   "outputs": [],
   "source": [
    "from theano_ann_bySean import HiddenLayer, ANN"
   ]
  },
  {
   "cell_type": "code",
   "execution_count": 9,
   "metadata": {},
   "outputs": [
    {
     "output_type": "execute_result",
     "data": {
      "text/plain": "array([[-0.05559217, -0.1737677 , -0.02817758, -0.51767826, -0.5420567 ],\n       [ 0.05689536, -0.01532626, -0.40573195,  0.03138047, -0.30534428],\n       [ 0.63283306, -0.47980568, -0.01201905, -0.19975922, -0.10787011]],\n      dtype=float32)"
     },
     "metadata": {},
     "execution_count": 9
    }
   ],
   "source": [
    "h = HiddenLayer(3, 5, 0)\n",
    "W_0, b_0 = h.params\n",
    "W_0.get_value()"
   ]
  },
  {
   "cell_type": "code",
   "execution_count": 13,
   "metadata": {},
   "outputs": [
    {
     "output_type": "execute_result",
     "data": {
      "text/plain": "array([[0., 0., 0., 0., 0.],\n       [0., 0., 0., 0., 0.],\n       [0., 0., 0., 0., 0.]], dtype=float32)"
     },
     "metadata": {},
     "execution_count": 13
    }
   ],
   "source": [
    "np.zeros_like(W_0.get_value(), dtype=np.float32)"
   ]
  }
 ]
}