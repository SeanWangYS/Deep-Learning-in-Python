{
 "cells": [
  {
   "cell_type": "code",
   "execution_count": 1,
   "metadata": {},
   "outputs": [
    {
     "output_type": "execute_result",
     "data": {
      "text/plain": "array([[1, 2, 3],\n       [4, 5, 6],\n       [7, 8, 9]])"
     },
     "metadata": {},
     "execution_count": 1
    }
   ],
   "source": [
    "import numpy as np \n",
    "\n",
    "pY = np.arange(1,10).reshape(3, 3)\n",
    "pY"
   ]
  },
  {
   "cell_type": "code",
   "execution_count": 13,
   "metadata": {},
   "outputs": [
    {
     "output_type": "execute_result",
     "data": {
      "text/plain": "array([4, 5, 6])"
     },
     "metadata": {},
     "execution_count": 13
    }
   ],
   "source": [
    "a = np.array([1, 0, 0])\n",
    "b = np.array([0, 1, 0])\n",
    "\n",
    "\n",
    "# =======做內積dot運算===========\n",
    "# 傳統算法\n",
    "b.dot(pY)\n",
    "\n",
    "# numpy indexing 形態一 : 取 vector\n",
    "pY[1]"
   ]
  },
  {
   "cell_type": "code",
   "execution_count": 17,
   "metadata": {},
   "outputs": [
    {
     "output_type": "execute_result",
     "data": {
      "text/plain": "array([[0, 0, 1],\n       [1, 0, 0],\n       [0, 1, 0]])"
     },
     "metadata": {},
     "execution_count": 17
    }
   ],
   "source": [
    "Y_vector = np.array([2, 0, 1])\n",
    "Y_one_hot = np.array([[0,0,1], [1,0,0], [0,1,0]])\n",
    "Y_one_hot"
   ]
  },
  {
   "cell_type": "code",
   "execution_count": 29,
   "metadata": {},
   "outputs": [
    {
     "output_type": "execute_result",
     "data": {
      "text/plain": "array([[0, 0, 3],\n       [4, 0, 0],\n       [0, 8, 0]])"
     },
     "metadata": {},
     "execution_count": 29
    }
   ],
   "source": [
    "# ====矩陣-矩陣對應元素相乘，再取sum()=====\n",
    "## 算cost function 的公式\n",
    "\n",
    "# 傳統算法\n",
    "Y_one_hot*pY"
   ]
  },
  {
   "cell_type": "code",
   "execution_count": 33,
   "metadata": {},
   "outputs": [
    {
     "output_type": "execute_result",
     "data": {
      "text/plain": "array([3, 4, 8])"
     },
     "metadata": {},
     "execution_count": 33
    }
   ],
   "source": [
    "# numpy indexing 型態二 : 取元素\n",
    "pY[[0,1,2], Y_vector]"
   ]
  },
  {
   "cell_type": "code",
   "execution_count": 5,
   "metadata": {},
   "outputs": [
    {
     "output_type": "stream",
     "name": "stdout",
     "text": "[False False  True False  True  True]\n"
    },
    {
     "output_type": "execute_result",
     "data": {
      "text/plain": "0.5"
     },
     "metadata": {},
     "execution_count": 5
    }
   ],
   "source": [
    "a = np.array([1,1,1,0,0,0])\n",
    "b = np.array([0,0,1,1,0,0])\n",
    "print(a == b)\n",
    "np.mean(a == b)"
   ]
  },
  {
   "cell_type": "code",
   "execution_count": null,
   "metadata": {},
   "outputs": [],
   "source": []
  }
 ],
 "metadata": {
  "language_info": {
   "codemirror_mode": {
    "name": "ipython",
    "version": 3
   },
   "file_extension": ".py",
   "mimetype": "text/x-python",
   "name": "python",
   "nbconvert_exporter": "python",
   "pygments_lexer": "ipython3",
   "version": "3.7.5-final"
  },
  "orig_nbformat": 2,
  "kernelspec": {
   "name": "python37564bitpy37conda913542e1a3094d9ca34ae10f6266e859",
   "display_name": "Python 3.7.5 64-bit ('py37': conda)"
  }
 },
 "nbformat": 4,
 "nbformat_minor": 2
}