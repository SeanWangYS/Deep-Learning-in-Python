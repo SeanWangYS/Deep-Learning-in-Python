{
 "nbformat": 4,
 "nbformat_minor": 2,
 "metadata": {
  "language_info": {
   "name": "python",
   "codemirror_mode": {
    "name": "ipython",
    "version": 3
   },
   "version": "3.7.5-final"
  },
  "orig_nbformat": 2,
  "file_extension": ".py",
  "mimetype": "text/x-python",
  "name": "python",
  "npconvert_exporter": "python",
  "pygments_lexer": "ipython3",
  "version": 3,
  "kernelspec": {
   "name": "python37564bitpy37conda913542e1a3094d9ca34ae10f6266e859",
   "display_name": "Python 3.7.5 64-bit ('py37': conda)"
  }
 },
 "cells": [
  {
   "cell_type": "code",
   "execution_count": 1,
   "metadata": {},
   "outputs": [],
   "source": [
    "import theano.tensor as T \n",
    "import theano \n",
    "import numpy as np "
   ]
  },
  {
   "cell_type": "code",
   "execution_count": 3,
   "metadata": {},
   "outputs": [],
   "source": [
    "x, y, b = T.dvectors('x', 'y', 'b')"
   ]
  },
  {
   "cell_type": "code",
   "execution_count": 6,
   "metadata": {},
   "outputs": [
    {
     "data": {
      "text/plain": "dot.0"
     },
     "execution_count": 6,
     "metadata": {},
     "output_type": "execute_result"
    }
   ],
   "source": [
    "x.T.dot(y)"
   ]
  },
  {
   "cell_type": "markdown",
   "metadata": {},
   "source": [
    "## 感覺一下 : 存量是什麼"
   ]
  },
  {
   "cell_type": "code",
   "execution_count": 39,
   "metadata": {},
   "outputs": [
    {
     "data": {
      "text/plain": "TensorType(float64, vector)"
     },
     "execution_count": 39,
     "metadata": {},
     "output_type": "execute_result"
    }
   ],
   "source": [
    "y.type"
   ]
  },
  {
   "cell_type": "code",
   "execution_count": 38,
   "metadata": {},
   "outputs": [
    {
     "name": "stdout",
     "output_type": "stream",
     "text": "type(x) <class 'theano.tensor.var.TensorVariable'>\ntype(z) <class 'theano.tensor.var.TensorVariable'>\ntype(op) <class 'theano.compile.function_module.Function'>\n"
    }
   ],
   "source": [
    "x = T.matrix('x')\n",
    "y = T.vector('y')\n",
    "z = x.dot(y)\n",
    "op = theano.function(\n",
    "    inputs=[x, y], \n",
    "    outputs=z \n",
    ")\n",
    "\n",
    "print('type(x)', type(x))\n",
    "print('type(z)', type(z))\n",
    "print('type(op)', type(op))"
   ]
  },
  {
   "cell_type": "code",
   "execution_count": 31,
   "metadata": {},
   "outputs": [
    {
     "name": "stdout",
     "output_type": "stream",
     "text": "[ 1.5  6.  10.5 15. ]\ntype(Z) <class 'numpy.ndarray'>\n"
    }
   ],
   "source": [
    "X = np.arange(12).reshape(4, 3)\n",
    "y = np.array([0.5, 0.5, 0.5])\n",
    "Z = op(X, y)\n",
    "print(Z)\n",
    "print('type(Z)', type(Z))"
   ]
  },
  {
   "cell_type": "markdown",
   "metadata": {},
   "source": [
    "## 感覺一下 : shared 是什麼"
   ]
  },
  {
   "cell_type": "code",
   "execution_count": 30,
   "metadata": {},
   "outputs": [
    {
     "name": "stdout",
     "output_type": "stream",
     "text": "[[-0.99159282  1.13600632 -0.18332626  0.54548387 -0.4552968 ]\n [ 0.67004384  1.16371516  0.9982994   0.26454643  0.67614672]\n [ 0.13862037  1.46715598 -1.66128136  1.39699727 -0.54399674]]\ntype(W.get_value()) <class 'numpy.ndarray'>\ntype(W) <class 'theano.tensor.sharedvar.TensorSharedVariable'>\n"
    }
   ],
   "source": [
    "W = theano.shared(np.random.randn(3, 5), 'W')\n",
    "print(W.get_value())\n",
    "print('type(W.get_value())', type(W.get_value()))\n",
    "print('type(W)', type(W))"
   ]
  },
  {
   "cell_type": "code",
   "execution_count": 42,
   "metadata": {},
   "outputs": [],
   "source": [
    "b = theano.shared(np.array([100, 100, 100, 100, 100]), 'b')\n",
    "X = T.matrix('X')\n",
    "Z = X.dot(W) + b\n",
    "\n",
    "op2 = theano.function(\n",
    "    inputs=[X],\n",
    "    outputs=Z\n",
    ")"
   ]
  },
  {
   "cell_type": "code",
   "execution_count": 43,
   "metadata": {},
   "outputs": [
    {
     "data": {
      "text/plain": "array([[100.94728459, 104.09802712,  97.67573669, 103.05854098,\n         99.58815324],\n       [100.39849878, 115.3986595 ,  95.13681206, 109.67962371,\n         98.61871279],\n       [ 99.84971297, 126.69929189,  92.59788743, 116.30070644,\n         97.64927234],\n       [ 99.30092716, 137.99992427,  90.0589628 , 122.92178917,\n         96.67983189]])"
     },
     "execution_count": 43,
     "metadata": {},
     "output_type": "execute_result"
    }
   ],
   "source": [
    "X_test = np.arange(12).reshape(4, 3)\n",
    "Z_test = op2(X_test)\n",
    "\n",
    "Z_test"
   ]
  },
  {
   "cell_type": "markdown",
   "metadata": {},
   "source": [
    "## theano setup"
   ]
  },
  {
   "cell_type": "code",
   "execution_count": 66,
   "metadata": {},
   "outputs": [],
   "source": [
    "import theano\n",
    "theano.config.floatX = 'float64'\n",
    "theano.config.floatX = 'float32'"
   ]
  },
  {
   "cell_type": "code",
   "execution_count": 67,
   "metadata": {},
   "outputs": [
    {
     "name": "stdout",
     "output_type": "stream",
     "text": "float32\n"
    }
   ],
   "source": [
    "print(theano.config.floatX)"
   ]
  },
  {
   "cell_type": "code",
   "execution_count": null,
   "metadata": {},
   "outputs": [],
   "source": []
  },
  {
   "cell_type": "code",
   "execution_count": 6,
   "metadata": {},
   "outputs": [],
   "source": [
    "targets = np.array([1, 3, 2, 4])"
   ]
  },
  {
   "cell_type": "code",
   "execution_count": 16,
   "metadata": {},
   "outputs": [
    {
     "data": {
      "text/plain": "array([[1, 0, 0, 0],\n       [0, 0, 1, 0],\n       [0, 1, 0, 0],\n       [0, 0, 0, 1]])"
     },
     "execution_count": 16,
     "metadata": {},
     "output_type": "execute_result"
    }
   ],
   "source": [
    "targets = np.array([1, 3, 2, 4])\n",
    "pY = np.array([[1,0,0,0], [0,0,1,0], [0,1,0,0], [0,0,0,1]])\n",
    "pY"
   ]
  },
  {
   "cell_type": "code",
   "execution_count": 37,
   "metadata": {},
   "outputs": [
    {
     "ename": "IndexError",
     "evalue": "only integers, slices (`:`), ellipsis (`...`), numpy.newaxis (`None`) and integer or boolean arrays are valid indices",
     "output_type": "error",
     "traceback": [
      "\u001b[1;31m---------------------------------------------------------------------------\u001b[0m",
      "\u001b[1;31mIndexError\u001b[0m                                Traceback (most recent call last)",
      "\u001b[1;32m<ipython-input-37-c0fd9f337f10>\u001b[0m in \u001b[0;36m<module>\u001b[1;34m\u001b[0m\n\u001b[1;32m----> 1\u001b[1;33m \u001b[0mpY\u001b[0m\u001b[1;33m[\u001b[0m\u001b[0mnp\u001b[0m\u001b[1;33m.\u001b[0m\u001b[0marange\u001b[0m\u001b[1;33m(\u001b[0m\u001b[0mpY\u001b[0m\u001b[1;33m.\u001b[0m\u001b[0mshape\u001b[0m\u001b[1;33m[\u001b[0m\u001b[1;36m0\u001b[0m\u001b[1;33m]\u001b[0m\u001b[1;33m)\u001b[0m\u001b[1;33m,\u001b[0m  \u001b[1;36m0.6\u001b[0m\u001b[1;33m]\u001b[0m\u001b[1;33m\u001b[0m\u001b[1;33m\u001b[0m\u001b[0m\n\u001b[0m",
      "\u001b[1;31mIndexError\u001b[0m: only integers, slices (`:`), ellipsis (`...`), numpy.newaxis (`None`) and integer or boolean arrays are valid indices"
     ]
    }
   ],
   "source": [
    "pY[np.arange(pY.shape[0]),  0.6]"
   ]
  },
  {
   "cell_type": "code",
   "execution_count": 18,
   "metadata": {},
   "outputs": [
    {
     "data": {
      "text/plain": "array([0, 1, 2, 3])"
     },
     "execution_count": 18,
     "metadata": {},
     "output_type": "execute_result"
    }
   ],
   "source": [
    "np.arange(pY.shape[0])"
   ]
  },
  {
   "cell_type": "code",
   "execution_count": null,
   "metadata": {},
   "outputs": [],
   "source": []
  }
 ]
}