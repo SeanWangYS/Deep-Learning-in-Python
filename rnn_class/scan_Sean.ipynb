{
 "cells": [
  {
   "cell_type": "code",
   "execution_count": 1,
   "metadata": {},
   "outputs": [],
   "source": [
    "import numpy as np \n",
    "import theano \n",
    "import theano.tensor as T "
   ]
  },
  {
   "cell_type": "markdown",
   "metadata": {},
   "source": [
    "### theano.function"
   ]
  },
  {
   "cell_type": "code",
   "execution_count": 8,
   "metadata": {},
   "outputs": [
    {
     "output_type": "stream",
     "name": "stdout",
     "text": "[array([[0.5       , 0.26894142],\n       [0.88079708, 0.95257413]])]\n"
    }
   ],
   "source": [
    "x = T.dmatrix('x')\n",
    "\n",
    "s = 1 / (1+ T.exp(x))  # logistic soft step\n",
    "\n",
    "logistic = theano.function(\n",
    "    inputs=[x], # Input variables of a Theano function 規定要放在list內\n",
    "    outputs=[s] # outputs 若只有一個，則強制要放在list內，有放的話表示會放在list內輸出\n",
    ")\n",
    "\n",
    "print(logistic([[0, 1], [-2, -3]]))"
   ]
  },
  {
   "cell_type": "code",
   "execution_count": 16,
   "metadata": {},
   "outputs": [
    {
     "output_type": "stream",
     "name": "stdout",
     "text": "[[ 1.  0.]\n [-1. -2.]] [[1. 0.]\n [1. 2.]] [[1. 0.]\n [1. 4.]]\n"
    }
   ],
   "source": [
    "a, b = T.dmatrices('a', 'b')\n",
    "diff = a -b\n",
    "abs_diff = abs(diff)\n",
    "diff_square = diff**2\n",
    "\n",
    "f = theano.function(\n",
    "    [a, b], \n",
    "    [diff, abs_diff, diff_square]\n",
    ")\n",
    "\n",
    "x1, x2, x3 = f(np.ones((2, 2)), np.arange(4).reshape(2,2))\n",
    "print(x1, x2, x3)"
   ]
  },
  {
   "cell_type": "markdown",
   "metadata": {},
   "source": [
    "### theano.scan"
   ]
  },
  {
   "cell_type": "code",
   "execution_count": 42,
   "metadata": {},
   "outputs": [
    {
     "output_type": "stream",
     "name": "stdout",
     "text": "[array([1., 4.])]\n"
    }
   ],
   "source": [
    "## 範例一\n",
    "\n",
    "x = T.vector('x')\n",
    "\n",
    "def square(h):\n",
    "    return h*h\n",
    "\n",
    "outputs, update = theano.scan(    # 這裡的output就是一個用list包起來的數組(sequence)\n",
    "    fn=square, \n",
    "    sequences=x, \n",
    "    n_steps=2  # 輸入2就只會run 前兩個element, 不指定就是 run 每個sequence的所有元素\n",
    ")\n",
    "\n",
    "square_op = theano.function(\n",
    "    inputs=[x], \n",
    "    outputs=[outputs],          # output is a array list 這裡再用一個list包一層\n",
    ")\n",
    "\n",
    "o_val = square_op(np.array([1,2,3,4,5]))\n",
    "\n",
    "print(o_val)"
   ]
  },
  {
   "cell_type": "code",
   "execution_count": 2,
   "metadata": {},
   "outputs": [
    {
     "output_type": "error",
     "ename": "NameError",
     "evalue": "name 'T' is not defined",
     "traceback": [
      "\u001b[1;31m---------------------------------------------------------------------------\u001b[0m",
      "\u001b[1;31mNameError\u001b[0m                                 Traceback (most recent call last)",
      "\u001b[1;32m<ipython-input-2-80beb1a063ee>\u001b[0m in \u001b[0;36m<module>\u001b[1;34m\u001b[0m\n\u001b[0;32m      1\u001b[0m \u001b[1;31m## 範例二 Fibonacci\u001b[0m\u001b[1;33m\u001b[0m\u001b[1;33m\u001b[0m\u001b[1;33m\u001b[0m\u001b[0m\n\u001b[1;32m----> 2\u001b[1;33m \u001b[0mN\u001b[0m \u001b[1;33m=\u001b[0m \u001b[0mT\u001b[0m\u001b[1;33m.\u001b[0m\u001b[0miscalars\u001b[0m\u001b[1;33m(\u001b[0m\u001b[1;34m'N'\u001b[0m\u001b[1;33m)\u001b[0m\u001b[1;33m\u001b[0m\u001b[1;33m\u001b[0m\u001b[0m\n\u001b[0m\u001b[0;32m      3\u001b[0m \u001b[1;33m\u001b[0m\u001b[0m\n\u001b[0;32m      4\u001b[0m \u001b[1;32mdef\u001b[0m \u001b[0mrecurrence\u001b[0m\u001b[1;33m(\u001b[0m\u001b[0mn\u001b[0m\u001b[1;33m,\u001b[0m \u001b[0mfn_1\u001b[0m\u001b[1;33m,\u001b[0m \u001b[0mfn_2\u001b[0m\u001b[1;33m)\u001b[0m\u001b[1;33m:\u001b[0m\u001b[1;33m\u001b[0m\u001b[1;33m\u001b[0m\u001b[0m\n\u001b[0;32m      5\u001b[0m     \u001b[1;32mreturn\u001b[0m \u001b[0mfn_1\u001b[0m\u001b[1;33m+\u001b[0m\u001b[0mfn_2\u001b[0m\u001b[1;33m,\u001b[0m \u001b[0mfn_1\u001b[0m\u001b[1;33m\u001b[0m\u001b[1;33m\u001b[0m\u001b[0m\n",
      "\u001b[1;31mNameError\u001b[0m: name 'T' is not defined"
     ]
    }
   ],
   "source": [
    "## 範例二 Fibonacci\n",
    "N = T.iscalars('N')\n",
    "\n",
    "def recurrence(n, fn_1, fn_2):\n",
    "    return fn_1+fn_2, fn_1\n",
    "\n",
    "outputs, _ = theano.scan(  # recurrence的 return有兩個參數，經過scan跑出來會是一個list內部包著兩個array list\n",
    "    fn=recurrence,\n",
    "    sequences=T.arange(N), \n",
    "    outputs_info=[1., 1.],\n",
    "    n_steps=N,\n",
    ")\n",
    "\n",
    "fabonacci = theano.function(\n",
    "    inputs=[N], \n",
    "    outputs= outputs, \n",
    ")\n",
    "\n",
    "o_val = fabonacci(8)\n",
    "\n",
    "print(o_val)\n"
   ]
  },
  {
   "cell_type": "code",
   "execution_count": 26,
   "metadata": {},
   "outputs": [
    {
     "output_type": "stream",
     "name": "stdout",
     "text": "[[ -2.19151694   1.33328589   1.0556425 ]\n [-10.72374481   2.57853563   1.0224578 ]\n [-19.25597267   3.82378536   0.98927309]]\n"
    }
   ],
   "source": [
    "# 做實驗 針對 srn_parity.py的疑問\n",
    "import numpy as np \n",
    "import theano \n",
    "import theano.tensor as T\n",
    "\n",
    "W = theano.shared(np.random.randn(3, 3))\n",
    "thA_t = T.matrix('A')\n",
    "def mutiple(a_t):\n",
    "    y_t = a_t.dot(W)\n",
    "    return y_t, y_t*2\n",
    "\n",
    "[p1, p2], _ = theano.scan(\n",
    "    fn=mutiple, \n",
    "    sequences=thA_t, \n",
    "    n_steps=thA_t.shape[0]\n",
    ")\n",
    "\n",
    "op = theano.function(\n",
    "    inputs=[thA_t], \n",
    "    outputs=p1\n",
    ")\n",
    "\n",
    "A_t = np.arange(9).reshape(3, 3)\n",
    "o = op(A_t)\n",
    "print(o)"
   ]
  }
 ],
 "metadata": {
  "language_info": {
   "codemirror_mode": {
    "name": "ipython",
    "version": 3
   },
   "file_extension": ".py",
   "mimetype": "text/x-python",
   "name": "python",
   "nbconvert_exporter": "python",
   "pygments_lexer": "ipython3",
   "version": "3.7.5-final"
  },
  "orig_nbformat": 2,
  "kernelspec": {
   "name": "python3",
   "display_name": "Python 3"
  }
 },
 "nbformat": 4,
 "nbformat_minor": 2
}